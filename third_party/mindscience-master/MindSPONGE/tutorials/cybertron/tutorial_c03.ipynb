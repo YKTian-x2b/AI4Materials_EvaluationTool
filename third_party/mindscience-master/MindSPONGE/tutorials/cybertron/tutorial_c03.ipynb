{
 "cells": [
  {
   "cell_type": "markdown",
   "metadata": {},
   "source": [
    "Copyright 2021-2023 @ Shenzhen Bay Laboratory & Peking University & Huawei Technologies Co., Ltd\n",
    "\n",
    "This code is a part of Cybertron package.\n",
    "\n",
    "The Cybertron is open-source software based on the AI-framework:\n",
    "MindSpore (https://www.mindspore.cn/)\n",
    "\n",
    "Licensed under the Apache License, Version 2.0 (the \"License\");\n",
    "you may not use this file except in compliance with the License.\n",
    "\n",
    "You may obtain a copy of the License at http://www.apache.org/licenses/LICENSE-2.0\n",
    "\n",
    "Unless required by applicable law or agreed to in writing, software\n",
    "distributed under the License is distributed on an \"AS IS\" BASIS,\n",
    "WITHOUT WARRANTIES OR CONDITIONS OF ANY KIND, either express or implied.\n",
    "\n",
    "See the License for the specific language governing permissions and\n",
    "limitations under the License.\n",
    "\n",
    "Cybertron tutorial 03: Use normalized dataset and validation dataset"
   ]
  },
  {
   "cell_type": "code",
   "execution_count": 1,
   "metadata": {},
   "outputs": [],
   "source": [
    "import sys\n",
    "import time\n",
    "import numpy as np\n",
    "from mindspore import nn\n",
    "from mindspore import context\n",
    "from mindspore import dataset as ds\n",
    "from mindspore.train import Model\n",
    "from mindspore.train.callback import ModelCheckpoint, CheckpointConfig\n",
    "from cybertron import Cybertron\n",
    "from cybertron import MolCT\n",
    "from cybertron import AtomwiseReadout\n",
    "from cybertron.train import TrainMonitor, MAE, MLoss\n",
    "from cybertron.train import WithLabelLossCell, WithLabelEvalCell\n",
    "\n",
    "context.set_context(mode=context.GRAPH_MODE, device_target=\"GPU\")"
   ]
  },
  {
   "cell_type": "code",
   "execution_count": 2,
   "metadata": {},
   "outputs": [],
   "source": [
    "data_name = sys.path[0] + '/dataset_qm9_normed_'\n",
    "train_file = data_name + 'trainset_1024.npz'\n",
    "valid_file = data_name + 'validset_128.npz'\n",
    "\n",
    "train_data = np.load(train_file)\n",
    "valid_data = np.load(valid_file)\n",
    "\n",
    "idx = [7]  # U0\n",
    "\n",
    "num_atom = int(train_data['num_atoms'])\n",
    "scale = train_data['scale'][idx]\n",
    "shift = train_data['shift'][idx]\n",
    "ref = train_data['type_ref'][:, idx]"
   ]
  },
  {
   "cell_type": "code",
   "execution_count": 3,
   "metadata": {},
   "outputs": [],
   "source": [
    "mod = MolCT(\n",
    "    cutoff=1,\n",
    "    n_interaction=3,\n",
    "    dim_feature=128,\n",
    "    n_heads=8,\n",
    "    activation='swish',\n",
    "    max_cycles=1,\n",
    "    length_unit='nm',\n",
    ")"
   ]
  },
  {
   "cell_type": "code",
   "execution_count": 4,
   "metadata": {},
   "outputs": [],
   "source": [
    "readout = AtomwiseReadout(mod, dim_output=1)"
   ]
  },
  {
   "cell_type": "code",
   "execution_count": 5,
   "metadata": {},
   "outputs": [
    {
     "name": "stdout",
     "output_type": "stream",
     "text": [
      "================================================================================\n",
      "Cybertron Engine, Ride-on!\n",
      "--------------------------------------------------------------------------------\n",
      "    Length unit: nm\n",
      "    Input unit scale: 1\n",
      "--------------------------------------------------------------------------------\n",
      "    Deep molecular model:  MolCT\n",
      "--------------------------------------------------------------------------------\n",
      "       Length unit: nm\n",
      "       Atom embedding size: 64\n",
      "       Cutoff distance: 1.0 nm\n",
      "       Radical basis function (RBF): LogGaussianBasis\n",
      "          Minimum distance: 0.04 nm\n",
      "          Maximum distance: 1.0 nm\n",
      "          Reference distance: 1.0 nm\n",
      "          Log Gaussian begin: -3.218876\n",
      "          Log Gaussian end: 0.006724119\n",
      "          Interval for log Gaussian: 0.0512\n",
      "          Sigma for log gaussian: 0.3\n",
      "          Number of basis functions: 64\n",
      "          Rescale the range of RBF to (-1,1).\n",
      "       Calculate distance: Yes\n",
      "       Calculate bond: No\n",
      "       Feature dimension: 128\n",
      "--------------------------------------------------------------------------------\n",
      "       Using 3 independent interaction layers:\n",
      "--------------------------------------------------------------------------------\n",
      "       0. Neural Interaction Unit\n",
      "          Feature dimension: 128\n",
      "          Activation function: Swish\n",
      "          Encoding distance: Yes\n",
      "          Encoding bond: No\n",
      "          Number of heads in multi-haed attention: 8\n",
      "          Use feed forward network: No\n",
      "--------------------------------------------------------------------------------\n",
      "       1. Neural Interaction Unit\n",
      "          Feature dimension: 128\n",
      "          Activation function: Swish\n",
      "          Encoding distance: Yes\n",
      "          Encoding bond: No\n",
      "          Number of heads in multi-haed attention: 8\n",
      "          Use feed forward network: No\n",
      "--------------------------------------------------------------------------------\n",
      "       2. Neural Interaction Unit\n",
      "          Feature dimension: 128\n",
      "          Activation function: Swish\n",
      "          Encoding distance: Yes\n",
      "          Encoding bond: No\n",
      "          Number of heads in multi-haed attention: 8\n",
      "          Use feed forward network: No\n",
      "--------------------------------------------------------------------------------\n",
      "    Readout network: AtomwiseReadout\n",
      "--------------------------------------------------------------------------------\n",
      "       Activation function: Swish\n",
      "       Decoder: HalveDecoder\n",
      "       Aggregator: TensorSummation\n",
      "       Representation dimension: 128\n",
      "       Readout dimension: 1\n",
      "       Scale: 1.0\n",
      "       Shift: 0.0\n",
      "       Scaleshift mode: Atomwise\n",
      "       Reference value for atom types: None\n",
      "       Output unit: None\n",
      "       Reduce axis: -2\n",
      "--------------------------------------------------------------------------------\n",
      "    Output dimension: 1\n",
      "    Output unit for Cybertron: None\n",
      "    Output unit scale: 1.0\n",
      "================================================================================\n"
     ]
    }
   ],
   "source": [
    "net = Cybertron(model=mod, readout=readout, dim_output=1,\n",
    "                num_atoms=num_atom, length_unit='nm')\n",
    "net.print_info()"
   ]
  },
  {
   "cell_type": "code",
   "execution_count": 6,
   "metadata": {},
   "outputs": [
    {
     "name": "stdout",
     "output_type": "stream",
     "text": [
      "0 model.atom_embedding.embedding_table (64, 128)\n",
      "1 model.dis_filter.linear.weight (128, 64)\n",
      "2 model.dis_filter.linear.bias (128,)\n",
      "3 model.dis_filter.residual.nonlinear.mlp.0.weight (128, 128)\n",
      "4 model.dis_filter.residual.nonlinear.mlp.0.bias (128,)\n",
      "5 model.dis_filter.residual.nonlinear.mlp.1.weight (128, 128)\n",
      "6 model.dis_filter.residual.nonlinear.mlp.1.bias (128,)\n",
      "7 model.interactions.0.positional_embedding.norm.gamma (128,)\n",
      "8 model.interactions.0.positional_embedding.norm.beta (128,)\n",
      "9 model.interactions.0.positional_embedding.x2q.weight (128, 128)\n",
      "10 model.interactions.0.positional_embedding.x2k.weight (128, 128)\n",
      "11 model.interactions.0.positional_embedding.x2v.weight (128, 128)\n",
      "12 model.interactions.0.multi_head_attention.output.weight (128, 128)\n",
      "13 model.interactions.1.positional_embedding.norm.gamma (128,)\n",
      "14 model.interactions.1.positional_embedding.norm.beta (128,)\n",
      "15 model.interactions.1.positional_embedding.x2q.weight (128, 128)\n",
      "16 model.interactions.1.positional_embedding.x2k.weight (128, 128)\n",
      "17 model.interactions.1.positional_embedding.x2v.weight (128, 128)\n",
      "18 model.interactions.1.multi_head_attention.output.weight (128, 128)\n",
      "19 model.interactions.2.positional_embedding.norm.gamma (128,)\n",
      "20 model.interactions.2.positional_embedding.norm.beta (128,)\n",
      "21 model.interactions.2.positional_embedding.x2q.weight (128, 128)\n",
      "22 model.interactions.2.positional_embedding.x2k.weight (128, 128)\n",
      "23 model.interactions.2.positional_embedding.x2v.weight (128, 128)\n",
      "24 model.interactions.2.multi_head_attention.output.weight (128, 128)\n",
      "25 readout.decoder.output.mlp.0.weight (64, 128)\n",
      "26 readout.decoder.output.mlp.0.bias (64,)\n",
      "27 readout.decoder.output.mlp.1.weight (1, 64)\n",
      "28 readout.decoder.output.mlp.1.bias (1,)\n",
      "Total parameters:  255233\n"
     ]
    }
   ],
   "source": [
    "tot_params = 0\n",
    "for i, param in enumerate(net.get_parameters()):\n",
    "    tot_params += param.size\n",
    "    print(i, param.name, param.shape)\n",
    "print('Total parameters: ', tot_params)"
   ]
  },
  {
   "cell_type": "code",
   "execution_count": 7,
   "metadata": {},
   "outputs": [],
   "source": [
    "N_EPOCH = 8\n",
    "REPEAT_TIME = 1\n",
    "BATCH_SIZE = 32"
   ]
  },
  {
   "cell_type": "code",
   "execution_count": 8,
   "metadata": {},
   "outputs": [],
   "source": [
    "ds_train = ds.NumpySlicesDataset(\n",
    "    {'R': train_data['R'], 'Z': train_data['Z'], 'E': train_data['E'][:, idx]}, shuffle=True)\n",
    "ds_train = ds_train.batch(BATCH_SIZE, drop_remainder=True)\n",
    "ds_train = ds_train.repeat(REPEAT_TIME)"
   ]
  },
  {
   "cell_type": "code",
   "execution_count": 9,
   "metadata": {},
   "outputs": [
    {
     "name": "stdout",
     "output_type": "stream",
     "text": [
      "WithLabelEvalCell with input type: RZE\n",
      "   with scaleshift for training and evaluate dataset:\n",
      "   Scale: [18.248537]\n",
      "   Shift: [-409.42038]\n",
      "   Scaleshift mode: atomwise\n",
      "   with reference value for atom types:\n",
      "   Type     Label0\n",
      "   0:        0.00e+00\n",
      "   1:       -1.31e+03\n",
      "   2:        0.00e+00\n",
      "   3:        0.00e+00\n",
      "   4:        0.00e+00\n",
      "   5:        0.00e+00\n",
      "   6:       -9.94e+04\n",
      "   7:       -1.43e+05\n",
      "   8:       -1.97e+05\n",
      "   9:       -2.62e+05\n"
     ]
    }
   ],
   "source": [
    "ds_valid = ds.NumpySlicesDataset(\n",
    "    {'R': valid_data['R'], 'Z': valid_data['Z'], 'E': valid_data['E'][:, idx]}, shuffle=False)\n",
    "ds_valid = ds_valid.batch(128)\n",
    "ds_valid = ds_valid.repeat(1)\n",
    "eval_network = WithLabelEvalCell(\n",
    "    'RZE', net, nn.MAELoss(), scale=scale, shift=shift, type_ref=ref)"
   ]
  },
  {
   "cell_type": "code",
   "execution_count": 10,
   "metadata": {},
   "outputs": [
    {
     "name": "stdout",
     "output_type": "stream",
     "text": [
      "WithLabelLossCell with input type: RZE\n",
      "WithLabelEvalCell with input type: RZE\n",
      "   with scaleshift for training and evaluate dataset:\n",
      "   Scale: [18.248537]\n",
      "   Shift: [-409.42038]\n",
      "   Scaleshift mode: atomwise\n",
      "   with reference value for atom types:\n",
      "   Type     Label0\n",
      "   0:        0.00e+00\n",
      "   1:       -1.31e+03\n",
      "   2:        0.00e+00\n",
      "   3:        0.00e+00\n",
      "   4:        0.00e+00\n",
      "   5:        0.00e+00\n",
      "   6:       -9.94e+04\n",
      "   7:       -1.43e+05\n",
      "   8:       -1.97e+05\n",
      "   9:       -2.62e+05\n"
     ]
    }
   ],
   "source": [
    "loss_network = WithLabelLossCell('RZE', net, nn.MAELoss())\n",
    "eval_network = WithLabelEvalCell('RZE', net, nn.MAELoss(), scale=scale, shift=shift, type_ref=ref)"
   ]
  },
  {
   "cell_type": "code",
   "execution_count": 11,
   "metadata": {},
   "outputs": [],
   "source": [
    "lr = nn.ExponentialDecayLR(\n",
    "    learning_rate=1e-3, decay_rate=0.96, decay_steps=4, is_stair=True)\n",
    "optim = nn.Adam(params=net.trainable_params(), learning_rate=lr)"
   ]
  },
  {
   "cell_type": "code",
   "execution_count": 12,
   "metadata": {},
   "outputs": [],
   "source": [
    "eval_mae = 'EvalMAE'\n",
    "atom_mae = 'AtomMAE'\n",
    "eval_loss = 'Evalloss'\n",
    "model = Model(loss_network, optimizer=optim, eval_network=eval_network, metrics={\n",
    "    eval_mae: MAE([1, 2]), atom_mae: MAE([1, 2, 3], averaged_by_atoms=True), eval_loss: MLoss(0)})"
   ]
  },
  {
   "cell_type": "code",
   "execution_count": 13,
   "metadata": {},
   "outputs": [],
   "source": [
    "outdir = 'Tutorial_C03'\n",
    "outname = outdir + '_' + net.model_name\n",
    "record_cb = TrainMonitor(model, outname, per_step=16, avg_steps=16,\n",
    "                         directory=outdir, eval_dataset=ds_valid, best_ckpt_metrics=eval_loss)"
   ]
  },
  {
   "cell_type": "code",
   "execution_count": 14,
   "metadata": {},
   "outputs": [],
   "source": [
    "config_ck = CheckpointConfig(\n",
    "    save_checkpoint_steps=32, keep_checkpoint_max=64, append_info=[net.hyper_param])\n",
    "ckpoint_cb = ModelCheckpoint(\n",
    "    prefix=outname, directory=outdir, config=config_ck)"
   ]
  },
  {
   "cell_type": "code",
   "execution_count": 15,
   "metadata": {},
   "outputs": [
    {
     "name": "stderr",
     "output_type": "stream",
     "text": [
      "[WARNING] ME(888067:139901616760064,MainProcess):2023-03-29-10:47:27.295.658 [mindspore/train/model.py:1077] For TrainMonitor callback, {'epoch_end', 'begin', 'step_end'} methods may not be supported in later version, Use methods prefixed with 'on_train' or 'on_eval' instead when using customized callbacks.\n"
     ]
    },
    {
     "name": "stdout",
     "output_type": "stream",
     "text": [
      "Start training ...\n",
      "Epoch: 1, Step: 16, Learning_rate: 0.0008847359, Last_Loss: 11.806259, Avg_loss: 19.56789082288742, EvalMAE: 205.1220703125, AtomMAE: 11.608316421508789, Evalloss: 11.240756034851074\n",
      "Epoch: 1, Step: 32, Learning_rate: 0.00075144734, Last_Loss: 6.0831475, Avg_loss: 9.709901571273804, EvalMAE: 117.24072265625, AtomMAE: 6.892520904541016, Evalloss: 6.425112247467041\n",
      "Epoch: 2, Step: 48, Learning_rate: 0.00063823926, Last_Loss: 4.529848, Avg_loss: 6.893972396850586, EvalMAE: 220.96826171875, AtomMAE: 12.511213302612305, Evalloss: 12.10911750793457\n",
      "Epoch: 2, Step: 64, Learning_rate: 0.0005420862, Last_Loss: 3.6108932, Avg_loss: 7.804106295108795, EvalMAE: 95.375, AtomMAE: 5.5689697265625, Evalloss: 5.2261962890625\n",
      "Epoch: 3, Step: 80, Learning_rate: 0.00046041902, Last_Loss: 4.8873215, Avg_loss: 5.610067039728165, EvalMAE: 76.38671875, AtomMAE: 4.544213771820068, Evalloss: 4.185667991638184\n",
      "Epoch: 3, Step: 96, Learning_rate: 0.00039105528, Last_Loss: 5.439431, Avg_loss: 4.39431993663311, EvalMAE: 86.52783203125, AtomMAE: 4.970468044281006, Evalloss: 4.741575241088867\n",
      "Epoch: 4, Step: 112, Learning_rate: 0.0003321414, Last_Loss: 3.9708116, Avg_loss: 3.8848590403795242, EvalMAE: 69.21337890625, AtomMAE: 4.137051105499268, Evalloss: 3.792570114135742\n",
      "Epoch: 4, Step: 128, Learning_rate: 0.00028210317, Last_Loss: 4.7956085, Avg_loss: 4.151628062129021, EvalMAE: 89.30029296875, AtomMAE: 5.326786041259766, Evalloss: 4.893866062164307\n",
      "Epoch: 5, Step: 144, Learning_rate: 0.00023960331, Last_Loss: 3.762278, Avg_loss: 3.900985077023506, EvalMAE: 69.56005859375, AtomMAE: 4.105800628662109, Evalloss: 3.8116037845611572\n",
      "Epoch: 5, Step: 160, Learning_rate: 0.00020350624, Last_Loss: 3.1485128, Avg_loss: 3.3404857218265533, EvalMAE: 58.02734375, AtomMAE: 3.499542236328125, Evalloss: 3.179656505584717\n",
      "Epoch: 6, Step: 176, Learning_rate: 0.00017284731, Last_Loss: 2.8815374, Avg_loss: 2.8842141032218933, EvalMAE: 53.66796875, AtomMAE: 3.2566287517547607, Evalloss: 2.9407081604003906\n",
      "Epoch: 6, Step: 192, Learning_rate: 0.00014680726, Last_Loss: 2.838557, Avg_loss: 2.930211514234543, EvalMAE: 53.50048828125, AtomMAE: 3.2635037899017334, Evalloss: 2.9318745136260986\n",
      "Epoch: 7, Step: 208, Learning_rate: 0.00012469022, Last_Loss: 2.041574, Avg_loss: 2.8434302359819412, EvalMAE: 50.6181640625, AtomMAE: 3.076462984085083, Evalloss: 2.7737765312194824\n",
      "Epoch: 7, Step: 224, Learning_rate: 0.0001059052, Last_Loss: 1.9015572, Avg_loss: 2.4779900163412094, EvalMAE: 48.751953125, AtomMAE: 2.987569808959961, Evalloss: 2.6715002059936523\n",
      "Epoch: 8, Step: 240, Learning_rate: 8.995021e-05, Last_Loss: 2.0131087, Avg_loss: 2.484596163034439, EvalMAE: 45.69677734375, AtomMAE: 2.8112688064575195, Evalloss: 2.5039589405059814\n",
      "Epoch: 8, Step: 256, Learning_rate: 7.63989e-05, Last_Loss: 3.0053275, Avg_loss: 2.4479020312428474, EvalMAE: 46.962890625, AtomMAE: 2.8135061264038086, Evalloss: 2.5735023021698\n",
      "Training Fininshed!\n",
      "Training Time: 00:00:36\n"
     ]
    }
   ],
   "source": [
    "print(\"Start training ...\")\n",
    "beg_time = time.time()\n",
    "model.train(N_EPOCH, ds_train, callbacks=[record_cb, ckpoint_cb], dataset_sink_mode=False)\n",
    "end_time = time.time()\n",
    "used_time = end_time - beg_time\n",
    "m, s = divmod(used_time, 60)\n",
    "h, m = divmod(m, 60)\n",
    "print(\"Training Fininshed!\")\n",
    "print(\"Training Time: %02d:%02d:%02d\" % (h, m, s))"
   ]
  }
 ],
 "metadata": {
  "kernelspec": {
   "display_name": "Python 3.7.5 ('mindsponge')",
   "language": "python",
   "name": "python3"
  },
  "language_info": {
   "codemirror_mode": {
    "name": "ipython",
    "version": 3
   },
   "file_extension": ".py",
   "mimetype": "text/x-python",
   "name": "python",
   "nbconvert_exporter": "python",
   "pygments_lexer": "ipython3",
   "version": "3.9.16"
  },
  "orig_nbformat": 4,
  "vscode": {
   "interpreter": {
    "hash": "2496ecc683137a232cae2452fbbdd53dab340598b6e499c8995be760f3a431b4"
   }
  }
 },
 "nbformat": 4,
 "nbformat_minor": 2
}
